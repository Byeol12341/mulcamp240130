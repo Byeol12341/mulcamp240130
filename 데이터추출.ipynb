{
 "cells": [
  {
   "cell_type": "code",
   "execution_count": 3,
   "id": "e87c13bf-5eb1-4208-9f89-185e0fe34491",
   "metadata": {
    "tags": []
   },
   "outputs": [],
   "source": [
    "import pandas as pd\n",
    "\n",
    "# 원본 데이터 파일 경로\n",
    "order_products__prior_path = \"order_products__prior.csv/order_products__prior.csv\"\n",
    "\n",
    "# 데이터 읽기\n",
    "df = pd.read_csv(order_products__prior_path)"
   ]
  },
  {
   "cell_type": "code",
   "execution_count": 4,
   "id": "5a659b2e-7a7b-4d53-b634-570d859c2f72",
   "metadata": {},
   "outputs": [],
   "source": [
    "sampled_df = df.sample(n=100, random_state=42)"
   ]
  },
  {
   "cell_type": "code",
   "execution_count": 6,
   "id": "daf510f4-7706-4606-8416-a6ed37e429e4",
   "metadata": {},
   "outputs": [
    {
     "name": "stdout",
     "output_type": "stream",
     "text": [
      "<class 'pandas.core.frame.DataFrame'>\n",
      "Index: 100 entries, 29481110 to 13163510\n",
      "Data columns (total 4 columns):\n",
      " #   Column             Non-Null Count  Dtype\n",
      "---  ------             --------------  -----\n",
      " 0   order_id           100 non-null    int64\n",
      " 1   product_id         100 non-null    int64\n",
      " 2   add_to_cart_order  100 non-null    int64\n",
      " 3   reordered          100 non-null    int64\n",
      "dtypes: int64(4)\n",
      "memory usage: 3.9 KB\n"
     ]
    }
   ],
   "source": [
    "sampled_df.info()"
   ]
  },
  {
   "cell_type": "code",
   "execution_count": 11,
   "id": "2f5feba7-bee2-4e4b-a83b-c5111c13af66",
   "metadata": {},
   "outputs": [],
   "source": [
    "# 원본 데이터 파일 경로\n",
    "order_products__train_path = \"order_products__train.csv/order_products__train.csv\"\n",
    "\n",
    "# 데이터 읽기\n",
    "df1 = pd.read_csv(order_products__train_path)\n",
    "\n",
    "sampled_df1 = df1.sample(n=100, random_state=42)"
   ]
  },
  {
   "cell_type": "code",
   "execution_count": 15,
   "id": "3f378c8e-a320-4ab2-a756-52e7e32abb5c",
   "metadata": {
    "tags": []
   },
   "outputs": [],
   "source": [
    "sampled_df1.to_csv(\"data/sample_order_products_train.csv\", index=False)"
   ]
  },
  {
   "cell_type": "code",
   "execution_count": 16,
   "id": "5b963215-16c1-4ded-bdd5-e9bbec24e225",
   "metadata": {},
   "outputs": [],
   "source": [
    "# 원본 데이터 파일 경로\n",
    "orders_path = \"orders.csv/orders.csv\"\n",
    "\n",
    "# 데이터 읽기\n",
    "df2 = pd.read_csv(orders_path)\n",
    "\n",
    "sampled_df2 = df2.sample(n=100, random_state=42)"
   ]
  },
  {
   "cell_type": "code",
   "execution_count": 18,
   "id": "7b04aaea-b736-467c-bb1c-320ebb34e5db",
   "metadata": {
    "tags": []
   },
   "outputs": [
    {
     "name": "stdout",
     "output_type": "stream",
     "text": [
      "<class 'pandas.core.frame.DataFrame'>\n",
      "Index: 100 entries, 29481110 to 13163510\n",
      "Data columns (total 4 columns):\n",
      " #   Column             Non-Null Count  Dtype\n",
      "---  ------             --------------  -----\n",
      " 0   order_id           100 non-null    int64\n",
      " 1   product_id         100 non-null    int64\n",
      " 2   add_to_cart_order  100 non-null    int64\n",
      " 3   reordered          100 non-null    int64\n",
      "dtypes: int64(4)\n",
      "memory usage: 3.9 KB\n"
     ]
    }
   ],
   "source": [
    "sampled_df.info()"
   ]
  },
  {
   "cell_type": "code",
   "execution_count": 19,
   "id": "53809382-b734-4af9-acb8-72d1657df652",
   "metadata": {
    "tags": []
   },
   "outputs": [],
   "source": [
    "sampled_df2.to_csv(\"data/sample_order.csv\", index=False)"
   ]
  },
  {
   "cell_type": "code",
   "execution_count": 4,
   "id": "1e8a2a3d",
   "metadata": {
    "tags": []
   },
   "outputs": [],
   "source": [
    "import pandas as pd\n",
    "# 원본 데이터 파일 경로\n",
    "orders_path = \"data/products.csv\"\n",
    "\n",
    "# 데이터 읽기\n",
    "df3 = pd.read_csv(orders_path)\n",
    "\n",
    "sampled_df3 = df3.sample(n=100, random_state=42)"
   ]
  },
  {
   "cell_type": "code",
   "execution_count": 7,
   "id": "46479add-c66c-439d-93d9-f9240b4bb405",
   "metadata": {
    "tags": []
   },
   "outputs": [],
   "source": [
    "sampled_df3.to_csv(\"data/sample_products.csv\", index=False)"
   ]
  },
  {
   "cell_type": "code",
   "execution_count": null,
   "id": "772e8cf1",
   "metadata": {},
   "outputs": [],
   "source": [
    "import pandas as pd\n",
    "# 원본 데이터 파일 경로\n",
    "orders_path = \"data/sample_submission.csv\"\n",
    "\n",
    "# 데이터 읽기\n",
    "df4 = pd.read_csv(orders_path)\n",
    "\n",
    "sampled_df3 = df3.sample(n=100, random_state=42)"
   ]
  }
 ],
 "metadata": {
  "kernelspec": {
   "display_name": "Python 3 (ipykernel)",
   "language": "python",
   "name": "python3"
  },
  "language_info": {
   "codemirror_mode": {
    "name": "ipython",
    "version": 3
   },
   "file_extension": ".py",
   "mimetype": "text/x-python",
   "name": "python",
   "nbconvert_exporter": "python",
   "pygments_lexer": "ipython3",
   "version": "3.11.5"
  }
 },
 "nbformat": 4,
 "nbformat_minor": 5
}
